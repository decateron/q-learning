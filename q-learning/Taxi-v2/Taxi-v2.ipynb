{
 "cells": [
  {
   "cell_type": "markdown",
   "metadata": {},
   "source": [
    "# Gym Taxi-v2 Environment"
   ]
  },
  {
   "cell_type": "markdown",
   "metadata": {},
   "source": [
    "### Import the dependencies"
   ]
  },
  {
   "cell_type": "markdown",
   "metadata": {},
   "source": [
    "* Numpy - a library of linear algebra\n",
    "* Gym - a library of environments\n",
    "* Random - a library which helps us to generate random numbers\n",
    "* Matplotlib - a plotting library"
   ]
  },
  {
   "cell_type": "code",
   "execution_count": 1,
   "metadata": {},
   "outputs": [],
   "source": [
    "import numpy as np\n",
    "import gym\n",
    "import random\n",
    "import matplotlib.pyplot as plt\n",
    "%matplotlib inline"
   ]
  },
  {
   "cell_type": "code",
   "execution_count": 2,
   "metadata": {},
   "outputs": [],
   "source": [
    "env = gym.make('Taxi-v2')"
   ]
  },
  {
   "cell_type": "markdown",
   "metadata": {},
   "source": [
    "### Create the Q-table and initialize it  "
   ]
  },
  {
   "cell_type": "markdown",
   "metadata": {},
   "source": [
    "* env.action_space.n - number of actions, which provides our environment\n",
    "* env.observation_space.n - number of states, which provides our environment"
   ]
  },
  {
   "cell_type": "code",
   "execution_count": 3,
   "metadata": {},
   "outputs": [
    {
     "name": "stdout",
     "output_type": "stream",
     "text": [
      "Action size = 6\n",
      "State size = 500\n"
     ]
    }
   ],
   "source": [
    "action_size = env.action_space.n\n",
    "state_size = env.observation_space.n\n",
    "\n",
    "print(\"Action size =\", action_size)\n",
    "print(\"State size =\", state_size)"
   ]
  },
  {
   "cell_type": "code",
   "execution_count": 4,
   "metadata": {},
   "outputs": [],
   "source": [
    "qtable = np.zeros((state_size, action_size))"
   ]
  },
  {
   "cell_type": "markdown",
   "metadata": {},
   "source": [
    "### Create the hyperparameters"
   ]
  },
  {
   "cell_type": "code",
   "execution_count": 5,
   "metadata": {},
   "outputs": [],
   "source": [
    "total_train_episodes = 50000  # Total episodes, which we will use to train our algorithm\n",
    "total_test_episodes = 100     # Total episodes, which we will use to test our algorithm\n",
    "max_steps = 100               # Max time steps per episode\n",
    "\n",
    "learning_rate = 0.7\n",
    "gamma = 0.8                   # Discounting rate\n",
    "\n",
    "# Exploration parameters\n",
    "epsilon = 1.0                 # Exploration rate\n",
    "max_epsilon = 1.0                 # Exploration probability at start \n",
    "min_epsilon = 0.01            # Minimum exploration probability\n",
    "decay_rate = 0.002             # Exponential decay rate for exploration probability"
   ]
  },
  {
   "cell_type": "markdown",
   "metadata": {},
   "source": [
    "### The Q learning algorithm"
   ]
  },
  {
   "cell_type": "code",
   "execution_count": 6,
   "metadata": {
    "scrolled": true
   },
   "outputs": [
    {
     "name": "stdout",
     "output_type": "stream",
     "text": [
      "Best average reward is 9.31\n"
     ]
    }
   ],
   "source": [
    "rewards = []\n",
    "best_avg_reward = 0\n",
    "\n",
    "for episode in range(total_train_episodes):\n",
    "    # Reset the environment\n",
    "    state = env.reset()      # reset() returns an initial observation\n",
    "    total_rewards = 0\n",
    "    \n",
    "    for step in range(max_steps):\n",
    "        # First we randomize a number\n",
    "        tradeoff = random.uniform(0, 1) # The tradeoff between exploration and explotation\n",
    "        \n",
    "        # If this number is greater than epsilon, then we do exploitation (taking the biggest Q value for this state)\n",
    "        if tradeoff > epsilon:\n",
    "            action = np.argmax(qtable[state, :]) # numpy.argmax returns the indices of the maximum values along an axis\n",
    "        \n",
    "        # Else doing a random choice\n",
    "        else:\n",
    "            action = env.action_space.sample()\n",
    "        \n",
    "        # Take the action (a) and observe the outcome state(s') and a reward(r)\n",
    "        new_state, reward, done, _ = env.step(action)\n",
    "        \n",
    "        # Update Q(s, a)\n",
    "        qtable[state, action] = qtable[state, action] + learning_rate * (reward + gamma *\n",
    "                                    np.max(qtable[new_state, :]) - qtable[state, action])\n",
    "        \n",
    "        # Our new state is state\n",
    "        state = new_state\n",
    "        \n",
    "        # Calculate total rewards for an episode\n",
    "        total_rewards = total_rewards + reward\n",
    "        \n",
    "        if done:\n",
    "            break\n",
    "            \n",
    "    rewards.append(total_rewards)\n",
    "    \n",
    "    if episode >= 100:\n",
    "        avg_reward = np.mean(rewards[episode-99:episode+1])\n",
    "        if avg_reward > best_avg_reward:\n",
    "            best_avg_reward = avg_reward\n",
    "        \n",
    "            \n",
    "    \n",
    "    episode += 1\n",
    "    \n",
    "    # Reduce epsilon (because we need less and less exploration, and more and more explotation)\n",
    "    epsilon = min_epsilon + (max_epsilon - min_epsilon) * np.exp(-decay_rate * episode)\n",
    "    \n",
    "    \n",
    "print(\"Best average reward is\", best_avg_reward)"
   ]
  },
  {
   "cell_type": "code",
   "execution_count": 7,
   "metadata": {},
   "outputs": [
    {
     "data": {
      "image/png": "[encoded data removed]",
      "text/plain": [
       "<Figure size 1440x720 with 1 Axes>"
      ]
     },
     "metadata": {
      "needs_background": "light"
     },
     "output_type": "display_data"
    }
   ],
   "source": [
    "plt.figure(figsize=(20, 10))\n",
    "plt.plot(rewards)\n",
    "plt.show()"
   ]
  },
  {
   "cell_type": "markdown",
   "metadata": {},
   "source": [
    "### Use our trained Q-table to play Taxi"
   ]
  },
  {
   "cell_type": "code",
   "execution_count": 8,
   "metadata": {},
   "outputs": [
    {
     "name": "stdout",
     "output_type": "stream",
     "text": [
      "Score over time: 8.63\n"
     ]
    }
   ],
   "source": [
    "rewards = []\n",
    "\n",
    "for episode in range(total_test_episodes):\n",
    "    state = env.reset()\n",
    "    total_rewards = 0\n",
    "    \n",
    "    for step in range(max_steps):\n",
    "        # Take the action (index), that have the maximum expected future reward given that state\n",
    "        action = np.argmax(qtable[state, :])\n",
    "        \n",
    "        new_state, reward, done, _ = env.step(action)\n",
    "        \n",
    "        total_rewards += reward\n",
    "        \n",
    "        if done:\n",
    "            break\n",
    "        \n",
    "        state = new_state\n",
    "        \n",
    "    rewards.append(total_rewards)\n",
    "\n",
    "env.close()\n",
    "print(\"Score over time: \" + str(sum(rewards) / total_test_episodes))"
   ]
  },
  {
   "cell_type": "code",
   "execution_count": null,
   "metadata": {},
   "outputs": [],
   "source": []
  }
 ],
 "metadata": {
  "kernelspec": {
   "display_name": "Python 3",
   "language": "python",
   "name": "python3"
  },
  "language_info": {
   "codemirror_mode": {
    "name": "ipython",
    "version": 3
   },
   "file_extension": ".py",
   "mimetype": "text/x-python",
   "name": "python",
   "nbconvert_exporter": "python",
   "pygments_lexer": "ipython3",
   "version": "3.6.6"
  }
 },
 "nbformat": 4,
 "nbformat_minor": 2
}
