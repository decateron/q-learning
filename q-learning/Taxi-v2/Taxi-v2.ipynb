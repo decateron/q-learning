{
 "cells": [
  {
   "cell_type": "markdown",
   "metadata": {},
   "source": [
    "# Q* Learning with Gym Taxi-v2 Environment"
   ]
  },
  {
   "cell_type": "markdown",
   "metadata": {},
   "source": [
    "## Import the dependencies"
   ]
  },
  {
   "cell_type": "markdown",
   "metadata": {},
   "source": [
    "* Numpy - a library of linear algebra\n",
    "* Gym - a library of environments\n",
    "* Random - a library which helps us to generate random numbers\n",
    "* Matplotlib - a plotting library"
   ]
  },
  {
   "cell_type": "code",
   "execution_count": 1,
   "metadata": {},
   "outputs": [],
   "source": [
    "import numpy as np\n",
    "import gym\n",
    "import random\n",
    "import matplotlib.pyplot as plt\n",
    "%matplotlib inline\n",
    "from collections import deque"
   ]
  },
  {
   "cell_type": "markdown",
   "metadata": {},
   "source": [
    "## Create our Agent"
   ]
  },
  {
   "cell_type": "code",
   "execution_count": 2,
   "metadata": {},
   "outputs": [],
   "source": [
    "class Agent():\n",
    "    \n",
    "    def __init__(self, env):\n",
    "        # Create the Q-table and initialize it with zeros\n",
    "        self.qtable = np.zeros((env.observation_space.n, env.action_space.n))\n",
    "        \n",
    "        self.lr_interval = np.linspace(0.1, 0.8, 200000)\n",
    "        \n",
    "        self.gamma = 0.99    \n",
    "        self.gamma_decay = 0.998\n",
    "\n",
    "        self.epsilon = 1            \n",
    "        self.epsilon_decay = 0.99995\n",
    "        \n",
    "    def select_action(self, state):\n",
    "        tradeoff = random.uniform(0, 1)\n",
    "        \n",
    "        if tradeoff > self.epsilon:\n",
    "            action = np.argmax(self.qtable[state, :])\n",
    "        else:\n",
    "            action = env.action_space.sample()\n",
    "        \n",
    "        return action\n",
    "    \n",
    "    def fit(self, episode, action, state, new_state, reward, done):\n",
    "        self.lr = self.lr_interval[episode]\n",
    "        \n",
    "        self.qtable[state, action] = self.qtable[state, action] + self.lr * (reward + \n",
    "               self.gamma * np.max(self.qtable[new_state, :]) - self.qtable[state, action])\n",
    "        \n",
    "        self.epsilon *= self.epsilon_decay\n",
    "        \n",
    "        if done:\n",
    "            self.gamma = 0.99\n",
    "        else:\n",
    "            self.gamma *= self.gamma_decay\n",
    "        \n",
    "\n",
    "        \n",
    "        "
   ]
  },
  {
   "cell_type": "markdown",
   "metadata": {},
   "source": [
    "## Create the training function"
   ]
  },
  {
   "cell_type": "code",
   "execution_count": 3,
   "metadata": {},
   "outputs": [],
   "source": [
    "def training(env, agent, number_episodes):\n",
    "    \n",
    "    rewards = deque(maxlen=100)\n",
    "    best_avg_reward = -9999\n",
    "    \n",
    "    for episode in range(number_episodes):\n",
    "        state = env.reset()\n",
    "        episode_reward = 0\n",
    "        \n",
    "        while True:\n",
    "            action = agent.select_action(state)\n",
    "            \n",
    "            new_state, reward, done, _ = env.step(action)\n",
    "            \n",
    "            agent.fit(episode, action, state, new_state, reward, done)\n",
    "            \n",
    "            state = new_state\n",
    "            episode_reward += reward\n",
    "            \n",
    "            if done:\n",
    "                break\n",
    "        \n",
    "        rewards.append(episode_reward)\n",
    "        \n",
    "        if episode >= 99:\n",
    "            avg_reward = np.mean(rewards)\n",
    "            \n",
    "            if avg_reward > best_avg_reward:\n",
    "                best_avg_reward = avg_reward\n",
    "        \n",
    "        if episode > 0 and episode % 20000 == 0:\n",
    "            print(\"Best average reward is \", best_avg_reward)\n",
    "            \n",
    "        \n",
    "        \n",
    "    \n",
    "    "
   ]
  },
  {
   "cell_type": "markdown",
   "metadata": {},
   "source": [
    "## Create the Taxi environment"
   ]
  },
  {
   "cell_type": "markdown",
   "metadata": {},
   "source": [
    "* env.action_space.n - number of actions, which provides our environment\n",
    "* env.observation_space.n - number of states, which provides our environment"
   ]
  },
  {
   "cell_type": "code",
   "execution_count": 4,
   "metadata": {},
   "outputs": [],
   "source": [
    "env = gym.make('Taxi-v2')"
   ]
  },
  {
   "cell_type": "code",
   "execution_count": 5,
   "metadata": {},
   "outputs": [
    {
     "name": "stdout",
     "output_type": "stream",
     "text": [
      "Action size = 6\n",
      "State size = 500\n"
     ]
    }
   ],
   "source": [
    "action_size = env.action_space.n\n",
    "state_size = env.observation_space.n\n",
    "\n",
    "print(\"Action size =\", action_size)\n",
    "print(\"State size =\", state_size)"
   ]
  },
  {
   "cell_type": "markdown",
   "metadata": {},
   "source": [
    "## Train the agent on the selected environment"
   ]
  },
  {
   "cell_type": "code",
   "execution_count": 6,
   "metadata": {},
   "outputs": [
    {
     "name": "stdout",
     "output_type": "stream",
     "text": [
      "Best average reward is  9.61\n"
     ]
    }
   ],
   "source": [
    "agent = Agent(env)\n",
    "training(env, agent, 20001)\n"
   ]
  },
  {
   "cell_type": "code",
   "execution_count": null,
   "metadata": {},
   "outputs": [],
   "source": []
  }
 ],
 "metadata": {
  "kernelspec": {
   "display_name": "Python 3",
   "language": "python",
   "name": "python3"
  },
  "language_info": {
   "codemirror_mode": {
    "name": "ipython",
    "version": 3
   },
   "file_extension": ".py",
   "mimetype": "text/x-python",
   "name": "python",
   "nbconvert_exporter": "python",
   "pygments_lexer": "ipython3",
   "version": "3.6.6"
  }
 },
 "nbformat": 4,
 "nbformat_minor": 2
}
