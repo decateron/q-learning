{
 "cells": [
  {
   "cell_type": "markdown",
   "metadata": {},
   "source": [
    "# Q* Learning with Gym FrozenLake-v0 \"4x4\""
   ]
  },
  {
   "cell_type": "markdown",
   "metadata": {},
   "source": [
    "## Import the dependencies"
   ]
  },
  {
   "cell_type": "markdown",
   "metadata": {},
   "source": [
    "* Numpy - a library of linear algebra\n",
    "* Gym - a library of environments\n",
    "* Random - a library which helps us to generate random numbers\n",
    "* Matplotlib - a plotting library"
   ]
  },
  {
   "cell_type": "code",
   "execution_count": 1,
   "metadata": {},
   "outputs": [],
   "source": [
    "import numpy as np\n",
    "import gym\n",
    "import random\n",
    "import matplotlib.pyplot as plt\n",
    "%matplotlib inline\n",
    "from collections import deque"
   ]
  },
  {
   "cell_type": "markdown",
   "metadata": {},
   "source": [
    "## Create our Agent"
   ]
  },
  {
   "cell_type": "code",
   "execution_count": 2,
   "metadata": {},
   "outputs": [],
   "source": [
    "class Agent:\n",
    "    \n",
    "    def __init__(self, env):\n",
    "        # Create the Q-table and initialize it with zeros\n",
    "        self.qtable = np.zeros((env.observation_space.n, env.action_space.n))\n",
    "        \n",
    "        self.lr_interval = np.linspace(0.1, 0.8, 200001)\n",
    "        \n",
    "        self.gamma_start = 0.99\n",
    "        self.gamma = self.gamma_start\n",
    "        self.gamma_decay = 0.998\n",
    "        \n",
    "        self.epsilon = 1\n",
    "        self.epsilon_decay = 0.9997\n",
    "    \n",
    "    def select_action(self, state):\n",
    "        tradeoff = random.uniform(0, 1)\n",
    "        \n",
    "        if tradeoff > self.epsilon:\n",
    "            action = np.argmax(self.qtable[state, :])\n",
    "        else:\n",
    "            action = env.action_space.sample()\n",
    "            \n",
    "        return action\n",
    "    \n",
    "    def fit(self, episode, action, state, new_state, reward, done):\n",
    "        self.lr = self.lr_interval[episode]\n",
    "        \n",
    "        self.qtable[state, action] = self.qtable[state, action] + self.lr * (reward + \n",
    "               self.gamma * np.max(self.qtable[new_state, :]) - self.qtable[state, action])\n",
    "        \n",
    "        self.epsilon *= self.epsilon_decay\n",
    "        \n",
    "        if done:\n",
    "            self.gamma = self.gamma_start\n",
    "        else:\n",
    "            self.gamma *= self.gamma_decay\n",
    "            \n",
    "            "
   ]
  },
  {
   "cell_type": "code",
   "execution_count": 3,
   "metadata": {},
   "outputs": [],
   "source": [
    "def training(env, agent, number_episodes):\n",
    "    \n",
    "    rewards = deque(maxlen=100)\n",
    "    best_avg_reward = -1\n",
    "    avg_rewards = []\n",
    "    \n",
    "    for episode in range(number_episodes):\n",
    "        state = env.reset()\n",
    "        episode_reward = 0\n",
    "        \n",
    "        while True:\n",
    "            action = agent.select_action(state)\n",
    "            \n",
    "            new_state, reward, done, _ = env.step(action)\n",
    "            \n",
    "            agent.fit(episode, action, state, new_state, reward, done)\n",
    "            \n",
    "            state = new_state\n",
    "            episode_reward += reward\n",
    "            \n",
    "            if done:\n",
    "                break\n",
    "        \n",
    "        rewards.append(episode_reward)\n",
    "        \n",
    "        if episode >= 99:\n",
    "            avg_reward = np.mean(rewards)\n",
    "            avg_rewards.append(avg_reward)\n",
    "            \n",
    "            if avg_reward > best_avg_reward:\n",
    "                best_avg_reward = avg_reward\n",
    "        \n",
    "        if episode > 0 and episode % 2500 == 0:\n",
    "            print(\"Best average reward is \", best_avg_reward)\n",
    "            print(\"That means that {}% times we reached our goal\".format(\n",
    "                best_avg_reward * 100))\n",
    "    \n",
    "    return avg_rewards"
   ]
  },
  {
   "cell_type": "markdown",
   "metadata": {},
   "source": [
    "## Create the FrozenLake environment"
   ]
  },
  {
   "cell_type": "markdown",
   "metadata": {},
   "source": [
    "* env.action_space.n - number of actions, which provides our environment\n",
    "* env.observation_space.n - number of states, which provides our environment"
   ]
  },
  {
   "cell_type": "code",
   "execution_count": 4,
   "metadata": {},
   "outputs": [],
   "source": [
    "# is_slippery=False delete the randomness from our algorithm\n",
    "env = gym.make('FrozenLake-v0', map_name=\"4x4\", is_slippery=False) "
   ]
  },
  {
   "cell_type": "code",
   "execution_count": 5,
   "metadata": {},
   "outputs": [
    {
     "name": "stdout",
     "output_type": "stream",
     "text": [
      "Action size = 4\n",
      "State size = 16\n"
     ]
    }
   ],
   "source": [
    "action_size = env.action_space.n\n",
    "state_size = env.observation_space.n\n",
    "\n",
    "print(\"Action size =\", action_size)\n",
    "print(\"State size =\", state_size)"
   ]
  },
  {
   "cell_type": "markdown",
   "metadata": {},
   "source": [
    "## Train the agent on the selected environment"
   ]
  },
  {
   "cell_type": "code",
   "execution_count": 6,
   "metadata": {},
   "outputs": [
    {
     "name": "stdout",
     "output_type": "stream",
     "text": [
      "Best average reward is  1.0\n",
      "That means that 100.0% times we reached our goal\n"
     ]
    }
   ],
   "source": [
    "agent = Agent(env)\n",
    "avg_rewards = training(env, agent, 2501)"
   ]
  },
  {
   "cell_type": "code",
   "execution_count": 7,
   "metadata": {},
   "outputs": [
    {
     "data": {
      "image/png": "[encoded data removed]",
      "text/plain": [
       "<Figure size 1440x720 with 1 Axes>"
      ]
     },
     "metadata": {
      "needs_background": "light"
     },
     "output_type": "display_data"
    }
   ],
   "source": [
    "plt.figure(figsize=(20, 10))\n",
    "plt.plot(avg_rewards)\n",
    "plt.show()"
   ]
  },
  {
   "cell_type": "markdown",
   "metadata": {},
   "source": [
    "## Let's see how looks our Q-table"
   ]
  },
  {
   "cell_type": "code",
   "execution_count": 8,
   "metadata": {},
   "outputs": [
    {
     "name": "stdout",
     "output_type": "stream",
     "text": [
      "[[0.92116136 0.9051348  0.9318736  0.91974998]\n",
      " [0.91769631 0.         0.94135352 0.92732195]\n",
      " [0.9259516  0.95285735 0.91708681 0.93701419]\n",
      " [0.935142   0.         0.44556876 0.44037036]\n",
      " [0.16150955 0.1867335  0.         0.91788998]\n",
      " [0.         0.         0.         0.        ]\n",
      " [0.         0.96641666 0.         0.93378813]\n",
      " [0.         0.         0.         0.        ]\n",
      " [0.07572337 0.         0.60557565 0.02725362]\n",
      " [0.17955182 0.25973545 0.95861031 0.        ]\n",
      " [0.93483059 0.98209512 0.         0.94482253]\n",
      " [0.         0.         0.         0.        ]\n",
      " [0.         0.         0.         0.        ]\n",
      " [0.         0.23867066 0.97210639 0.32008726]\n",
      " [0.92742078 0.97854696 1.         0.95807624]\n",
      " [0.         0.         0.         0.        ]]\n"
     ]
    }
   ],
   "source": [
    "print(agent.qtable)"
   ]
  },
  {
   "cell_type": "code",
   "execution_count": null,
   "metadata": {},
   "outputs": [],
   "source": []
  }
 ],
 "metadata": {
  "kernelspec": {
   "display_name": "Python 3",
   "language": "python",
   "name": "python3"
  },
  "language_info": {
   "codemirror_mode": {
    "name": "ipython",
    "version": 3
   },
   "file_extension": ".py",
   "mimetype": "text/x-python",
   "name": "python",
   "nbconvert_exporter": "python",
   "pygments_lexer": "ipython3",
   "version": "3.6.6"
  }
 },
 "nbformat": 4,
 "nbformat_minor": 2
}
